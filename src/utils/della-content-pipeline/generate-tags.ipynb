{
 "cells": [
  {
   "cell_type": "code",
   "execution_count": null,
   "id": "ffa177e8-c726-40dc-bd23-2e23795258be",
   "metadata": {},
   "outputs": [],
   "source": [
    "\"\"\" generate sectors using csv file\"\"\"\n",
    "\"\"\" Generate sectors for each episode using OpenAI's GPT-4 API. \"\"\""
   ]
  },
  {
   "cell_type": "code",
   "execution_count": null,
   "id": "b06e6825-ccfb-4d0a-9536-170577bbcc60",
   "metadata": {},
   "outputs": [],
   "source": [
    "import pandas as pd\n",
    "from openai import OpenAI\n",
    "\n",
    "# Load your CSV file\n",
    "df = pd.read_csv('csv/podcasts_overview.csv')\n",
    "\n",
    "# Assuming you have your API key for OpenAI\n",
    "client = OpenAI(api_key=\"\")\n",
    "\n",
    "def classify_overview(overview):\n",
    "    try:\n",
    "        # This code is for v1 of the openai package: pypi.org/project/openai\n",
    "        response = client.chat.completions.create(\n",
    "            model=\"gpt-4-1106-preview\",\n",
    "            messages=[\n",
    "                {\n",
    "                    \"role\": \"user\",\n",
    "                    \"content\": f\"For this content: \\\"{overview}\\\".\\n Choose one tag for it. The tags are: \\\"Biochar Production,Bioplastics,Coastal Wetland Restoration,Distributed Energy Storage,Distributed Solar Photovoltaics,Efficient Aviation,Geothermal Power,Improved Manure Management,Multistrata Agroforestry,Onshore Wind Turbines,Reduced Food Waste,Solar Hot Water,Temperate Forest Restoration,Tropical Forest Restoration,Water Distribution Efficiency.\\\"\\n\\nJust response the tag name\"\n",
    "                }\n",
    "            ],\n",
    "            temperature=1,\n",
    "            max_tokens=25,\n",
    "            top_p=1,\n",
    "            frequency_penalty=0,\n",
    "            presence_penalty=0)\n",
    "\n",
    "        return response.choices[0].message.content\n",
    "    except Exception as e:\n",
    "        print(f\"Error: {e}\")\n",
    "        return \"Error\"\n",
    "\n",
    "# Apply the function to each overview\n",
    "df['Topic'] = df['Overview'].apply(classify_overview)\n",
    "\n",
    "# Save the updated DataFrame to a new CSV file\n",
    "df.to_csv('csv/updated_file_gpt4_new.csv', index=False)"
   ]
  },
  {
   "cell_type": "code",
   "execution_count": null,
   "id": "d64d46fa-87c1-4305-846b-89c93278b8dd",
   "metadata": {},
   "outputs": [],
   "source": []
  }
 ],
 "metadata": {
  "kernelspec": {
   "display_name": "Python 3 (ipykernel)",
   "language": "python",
   "name": "python3"
  },
  "language_info": {
   "codemirror_mode": {
    "name": "ipython",
    "version": 3
   },
   "file_extension": ".py",
   "mimetype": "text/x-python",
   "name": "python",
   "nbconvert_exporter": "python",
   "pygments_lexer": "ipython3",
   "version": "3.11.6"
  }
 },
 "nbformat": 4,
 "nbformat_minor": 5
}
